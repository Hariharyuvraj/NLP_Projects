{
 "cells": [
  {
   "cell_type": "code",
   "execution_count": 1,
   "id": "6200440d-d56d-4ee9-8840-ea3af94ca63f",
   "metadata": {},
   "outputs": [],
   "source": [
    "import pandas as pd\n",
    "import numpy as np\n",
    "import matplotlib.pyplot as plt\n",
    "import sklearn "
   ]
  },
  {
   "cell_type": "markdown",
   "id": "6adf7147-5201-4e75-8c69-4390a01bc8fc",
   "metadata": {},
   "source": [
    "## Removing Emojis:"
   ]
  },
  {
   "cell_type": "code",
   "execution_count": 8,
   "id": "9e3de6d8-b4bf-48b2-8808-f22224f01042",
   "metadata": {},
   "outputs": [
    {
     "name": "stdout",
     "output_type": "stream",
     "text": [
      "Collecting emoji\n",
      "  Downloading emoji-2.14.0-py3-none-any.whl.metadata (5.7 kB)\n",
      "Downloading emoji-2.14.0-py3-none-any.whl (586 kB)\n",
      "   ---------------------------------------- 0.0/586.9 kB ? eta -:--:--\n",
      "   ---------------------------------------- 0.0/586.9 kB ? eta -:--:--\n",
      "    --------------------------------------- 10.2/586.9 kB ? eta -:--:--\n",
      "    --------------------------------------- 10.2/586.9 kB ? eta -:--:--\n",
      "   ---- ---------------------------------- 61.4/586.9 kB 465.5 kB/s eta 0:00:02\n",
      "   ------------- -------------------------- 204.8/586.9 kB 1.2 MB/s eta 0:00:01\n",
      "   ------------------------- -------------- 368.6/586.9 kB 1.8 MB/s eta 0:00:01\n",
      "   ---------------------------------- ----- 501.8/586.9 kB 2.0 MB/s eta 0:00:01\n",
      "   ---------------------------------------  583.7/586.9 kB 1.9 MB/s eta 0:00:01\n",
      "   ---------------------------------------- 586.9/586.9 kB 1.8 MB/s eta 0:00:00\n",
      "Installing collected packages: emoji\n",
      "Successfully installed emoji-2.14.0\n",
      "Note: you may need to restart the kernel to use updated packages.\n"
     ]
    }
   ],
   "source": [
    "pip install emoji\n"
   ]
  },
  {
   "cell_type": "code",
   "execution_count": 9,
   "id": "590cb59c-6fe3-4c81-ac08-fe8db8c20bd7",
   "metadata": {},
   "outputs": [
    {
     "name": "stdout",
     "output_type": "stream",
     "text": [
      "I love Python! :smiling_face_with_heart-eyes::rocket:\n"
     ]
    }
   ],
   "source": [
    "import emoji\n",
    "\n",
    "def replace_emojis_with_text(text):\n",
    "    return emoji.demojize(text)\n",
    "\n",
    "# Example usage\n",
    "text = \"I love Python! 😍🚀\"\n",
    "text_with_descriptions = replace_emojis_with_text(text)\n",
    "print(text_with_descriptions)  # Output: I love Python! :smiling_face_with_heart-eyes: :rocket:\n"
   ]
  },
  {
   "cell_type": "markdown",
   "id": "fc1d955e-b18c-402d-afd4-1de2b8f19310",
   "metadata": {},
   "source": [
    "## Replacing Emojis with Text Descriptions:"
   ]
  },
  {
   "cell_type": "code",
   "execution_count": 1,
   "id": "161ebfd7-a513-4478-804e-1ffaf4070519",
   "metadata": {},
   "outputs": [],
   "source": [
    "import emoji"
   ]
  },
  {
   "cell_type": "code",
   "execution_count": 3,
   "id": "81c73c0c-0d40-4d02-994e-aff325a1ea1b",
   "metadata": {},
   "outputs": [
    {
     "name": "stdout",
     "output_type": "stream",
     "text": [
      "I love Python! :smiling_face_with_heart-eyes::rocket:\n"
     ]
    }
   ],
   "source": [
    "print(emoji.demojize(\"I love Python! 😍🚀\"))"
   ]
  },
  {
   "cell_type": "code",
   "execution_count": 7,
   "id": "4dcda634-c47b-4148-8f67-e6c49b92f00e",
   "metadata": {},
   "outputs": [
    {
     "name": "stdout",
     "output_type": "stream",
     "text": [
      "Good morning! :sun::smiling_face_with_smiling_eyes: I hope you have a great day! :flexed_biceps::rocket:\n"
     ]
    }
   ],
   "source": [
    "print(emoji.demojize(\"Good morning! ☀️😊 I hope you have a great day! 💪🚀\"))"
   ]
  },
  {
   "cell_type": "markdown",
   "id": "8d690d54-1ee5-4986-a240-f503e4e081bf",
   "metadata": {},
   "source": [
    "# Summary:\n",
    "## Removing Emojis: Use re to filter them out.\n",
    "## Replacing Emojis with Text Descriptions: Use emoji.demojize().\n",
    "## Converting Text Descriptions Back to Emojis: Use emoji.emojize().\n",
    "## Counting Emojis: Use a generator to count emoji characters."
   ]
  },
  {
   "cell_type": "code",
   "execution_count": null,
   "id": "76a1e768-a631-4491-998f-432faf83e964",
   "metadata": {},
   "outputs": [],
   "source": []
  }
 ],
 "metadata": {
  "kernelspec": {
   "display_name": "Python 3 (ipykernel)",
   "language": "python",
   "name": "python3"
  },
  "language_info": {
   "codemirror_mode": {
    "name": "ipython",
    "version": 3
   },
   "file_extension": ".py",
   "mimetype": "text/x-python",
   "name": "python",
   "nbconvert_exporter": "python",
   "pygments_lexer": "ipython3",
   "version": "3.12.4"
  }
 },
 "nbformat": 4,
 "nbformat_minor": 5
}
