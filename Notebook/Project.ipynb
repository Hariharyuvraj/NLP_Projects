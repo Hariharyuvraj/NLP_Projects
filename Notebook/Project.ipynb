{
 "cells": [
  {
   "cell_type": "code",
   "execution_count": 3,
   "metadata": {},
   "outputs": [],
   "source": [
    "import numpy as np  # for numerical computations\n",
    "import pandas as pd  # for data manipulation and analysis\n",
    "import matplotlib.pyplot as plt  # for data visualization\n",
    "import sklearn"
   ]
  },
  {
   "cell_type": "code",
   "execution_count": 11,
   "metadata": {},
   "outputs": [],
   "source": [
    "df= pd.read_csv(r'D:\\Yuvraj\\My practice\\NLP Practice\\dataset\\quora_duplicate_questions.csv')"
   ]
  },
  {
   "cell_type": "code",
   "execution_count": 12,
   "metadata": {},
   "outputs": [
    {
     "data": {
      "text/plain": [
       "(345036, 7)"
      ]
     },
     "execution_count": 12,
     "metadata": {},
     "output_type": "execute_result"
    }
   ],
   "source": [
    "df.shape"
   ]
  },
  {
   "cell_type": "code",
   "execution_count": 13,
   "metadata": {},
   "outputs": [
    {
     "data": {
      "text/html": [
       "<div>\n",
       "<style scoped>\n",
       "    .dataframe tbody tr th:only-of-type {\n",
       "        vertical-align: middle;\n",
       "    }\n",
       "\n",
       "    .dataframe tbody tr th {\n",
       "        vertical-align: top;\n",
       "    }\n",
       "\n",
       "    .dataframe thead th {\n",
       "        text-align: right;\n",
       "    }\n",
       "</style>\n",
       "<table border=\"1\" class=\"dataframe\">\n",
       "  <thead>\n",
       "    <tr style=\"text-align: right;\">\n",
       "      <th></th>\n",
       "      <th>index</th>\n",
       "      <th>id</th>\n",
       "      <th>qid1</th>\n",
       "      <th>qid2</th>\n",
       "      <th>question1</th>\n",
       "      <th>question2</th>\n",
       "      <th>is_duplicate</th>\n",
       "    </tr>\n",
       "  </thead>\n",
       "  <tbody>\n",
       "    <tr>\n",
       "      <th>0</th>\n",
       "      <td>0</td>\n",
       "      <td>0</td>\n",
       "      <td>1</td>\n",
       "      <td>2</td>\n",
       "      <td>What is the step by step guide to invest in sh...</td>\n",
       "      <td>What is the step by step guide to invest in sh...</td>\n",
       "      <td>0</td>\n",
       "    </tr>\n",
       "    <tr>\n",
       "      <th>1</th>\n",
       "      <td>1</td>\n",
       "      <td>1</td>\n",
       "      <td>3</td>\n",
       "      <td>4</td>\n",
       "      <td>What is the story of Kohinoor (Koh-i-Noor) Dia...</td>\n",
       "      <td>What would happen if the Indian government sto...</td>\n",
       "      <td>0</td>\n",
       "    </tr>\n",
       "    <tr>\n",
       "      <th>2</th>\n",
       "      <td>2</td>\n",
       "      <td>2</td>\n",
       "      <td>5</td>\n",
       "      <td>6</td>\n",
       "      <td>How can I increase the speed of my internet co...</td>\n",
       "      <td>How can Internet speed be increased by hacking...</td>\n",
       "      <td>0</td>\n",
       "    </tr>\n",
       "    <tr>\n",
       "      <th>3</th>\n",
       "      <td>3</td>\n",
       "      <td>6</td>\n",
       "      <td>13</td>\n",
       "      <td>14</td>\n",
       "      <td>Should I buy tiago?</td>\n",
       "      <td>What keeps childern active and far from phone ...</td>\n",
       "      <td>0</td>\n",
       "    </tr>\n",
       "    <tr>\n",
       "      <th>4</th>\n",
       "      <td>4</td>\n",
       "      <td>7</td>\n",
       "      <td>15</td>\n",
       "      <td>16</td>\n",
       "      <td>How can I be a good geologist?</td>\n",
       "      <td>What should I do to be a great geologist?</td>\n",
       "      <td>1</td>\n",
       "    </tr>\n",
       "  </tbody>\n",
       "</table>\n",
       "</div>"
      ],
      "text/plain": [
       "   index  id  qid1  qid2                                          question1  \\\n",
       "0      0   0     1     2  What is the step by step guide to invest in sh...   \n",
       "1      1   1     3     4  What is the story of Kohinoor (Koh-i-Noor) Dia...   \n",
       "2      2   2     5     6  How can I increase the speed of my internet co...   \n",
       "3      3   6    13    14                                Should I buy tiago?   \n",
       "4      4   7    15    16                     How can I be a good geologist?   \n",
       "\n",
       "                                           question2  is_duplicate  \n",
       "0  What is the step by step guide to invest in sh...             0  \n",
       "1  What would happen if the Indian government sto...             0  \n",
       "2  How can Internet speed be increased by hacking...             0  \n",
       "3  What keeps childern active and far from phone ...             0  \n",
       "4          What should I do to be a great geologist?             1  "
      ]
     },
     "execution_count": 13,
     "metadata": {},
     "output_type": "execute_result"
    }
   ],
   "source": [
    "df.head()"
   ]
  },
  {
   "cell_type": "code",
   "execution_count": 14,
   "metadata": {},
   "outputs": [
    {
     "data": {
      "text/html": [
       "<div>\n",
       "<style scoped>\n",
       "    .dataframe tbody tr th:only-of-type {\n",
       "        vertical-align: middle;\n",
       "    }\n",
       "\n",
       "    .dataframe tbody tr th {\n",
       "        vertical-align: top;\n",
       "    }\n",
       "\n",
       "    .dataframe thead th {\n",
       "        text-align: right;\n",
       "    }\n",
       "</style>\n",
       "<table border=\"1\" class=\"dataframe\">\n",
       "  <thead>\n",
       "    <tr style=\"text-align: right;\">\n",
       "      <th></th>\n",
       "      <th>index</th>\n",
       "      <th>id</th>\n",
       "      <th>qid1</th>\n",
       "      <th>qid2</th>\n",
       "      <th>question1</th>\n",
       "      <th>question2</th>\n",
       "      <th>is_duplicate</th>\n",
       "    </tr>\n",
       "  </thead>\n",
       "  <tbody>\n",
       "    <tr>\n",
       "      <th>59942</th>\n",
       "      <td>59942</td>\n",
       "      <td>70248</td>\n",
       "      <td>139623</td>\n",
       "      <td>139624</td>\n",
       "      <td>If you were asking a student loan borrower jus...</td>\n",
       "      <td>Are book collectors possessive about their boo...</td>\n",
       "      <td>0</td>\n",
       "    </tr>\n",
       "    <tr>\n",
       "      <th>178587</th>\n",
       "      <td>178587</td>\n",
       "      <td>209235</td>\n",
       "      <td>412733</td>\n",
       "      <td>412734</td>\n",
       "      <td>How can I suspend A2A requests?</td>\n",
       "      <td>How do I cancel an A2A request?</td>\n",
       "      <td>1</td>\n",
       "    </tr>\n",
       "    <tr>\n",
       "      <th>153799</th>\n",
       "      <td>153799</td>\n",
       "      <td>180240</td>\n",
       "      <td>356008</td>\n",
       "      <td>356009</td>\n",
       "      <td>What are the security features of a new Rs. 50...</td>\n",
       "      <td>Why are some news channel and people saying th...</td>\n",
       "      <td>1</td>\n",
       "    </tr>\n",
       "    <tr>\n",
       "      <th>341282</th>\n",
       "      <td>341282</td>\n",
       "      <td>399924</td>\n",
       "      <td>781324</td>\n",
       "      <td>781325</td>\n",
       "      <td>I want to Comment \"Joke of the Day!\" in face b...</td>\n",
       "      <td>Could Madara really resurrect the Ten Tails ev...</td>\n",
       "      <td>0</td>\n",
       "    </tr>\n",
       "    <tr>\n",
       "      <th>183720</th>\n",
       "      <td>183720</td>\n",
       "      <td>215240</td>\n",
       "      <td>424435</td>\n",
       "      <td>424436</td>\n",
       "      <td>Which is the best phone under ₹15000?</td>\n",
       "      <td>Which is the best phone to buy within Rs.15000?</td>\n",
       "      <td>1</td>\n",
       "    </tr>\n",
       "    <tr>\n",
       "      <th>114454</th>\n",
       "      <td>114454</td>\n",
       "      <td>134064</td>\n",
       "      <td>265489</td>\n",
       "      <td>265490</td>\n",
       "      <td>How do I make a manual light switch?</td>\n",
       "      <td>How should I react if someone repeatedly adden...</td>\n",
       "      <td>0</td>\n",
       "    </tr>\n",
       "    <tr>\n",
       "      <th>299959</th>\n",
       "      <td>299959</td>\n",
       "      <td>351524</td>\n",
       "      <td>688611</td>\n",
       "      <td>688612</td>\n",
       "      <td>Why do we give so much respect to our soldiers...</td>\n",
       "      <td>I give tuitions to students of class 7&amp;8. They...</td>\n",
       "      <td>0</td>\n",
       "    </tr>\n",
       "    <tr>\n",
       "      <th>91808</th>\n",
       "      <td>91808</td>\n",
       "      <td>107543</td>\n",
       "      <td>213283</td>\n",
       "      <td>213284</td>\n",
       "      <td>When are the JEE Mains 2015 paper 2 of B.Arch ...</td>\n",
       "      <td>When will the Jee Mains Paper 2 (B.Arch) resul...</td>\n",
       "      <td>0</td>\n",
       "    </tr>\n",
       "    <tr>\n",
       "      <th>192283</th>\n",
       "      <td>192283</td>\n",
       "      <td>225303</td>\n",
       "      <td>206356</td>\n",
       "      <td>444056</td>\n",
       "      <td>What is the best macro lens for a Canon DSLR?</td>\n",
       "      <td>What is the best 1:1 macro lens for Canon?</td>\n",
       "      <td>1</td>\n",
       "    </tr>\n",
       "    <tr>\n",
       "      <th>315985</th>\n",
       "      <td>315985</td>\n",
       "      <td>370174</td>\n",
       "      <td>541333</td>\n",
       "      <td>724399</td>\n",
       "      <td>How does someone become a better problem solver?</td>\n",
       "      <td>How can I be a problem solver?</td>\n",
       "      <td>1</td>\n",
       "    </tr>\n",
       "  </tbody>\n",
       "</table>\n",
       "</div>"
      ],
      "text/plain": [
       "         index      id    qid1    qid2  \\\n",
       "59942    59942   70248  139623  139624   \n",
       "178587  178587  209235  412733  412734   \n",
       "153799  153799  180240  356008  356009   \n",
       "341282  341282  399924  781324  781325   \n",
       "183720  183720  215240  424435  424436   \n",
       "114454  114454  134064  265489  265490   \n",
       "299959  299959  351524  688611  688612   \n",
       "91808    91808  107543  213283  213284   \n",
       "192283  192283  225303  206356  444056   \n",
       "315985  315985  370174  541333  724399   \n",
       "\n",
       "                                                question1  \\\n",
       "59942   If you were asking a student loan borrower jus...   \n",
       "178587                    How can I suspend A2A requests?   \n",
       "153799  What are the security features of a new Rs. 50...   \n",
       "341282  I want to Comment \"Joke of the Day!\" in face b...   \n",
       "183720              Which is the best phone under ₹15000?   \n",
       "114454               How do I make a manual light switch?   \n",
       "299959  Why do we give so much respect to our soldiers...   \n",
       "91808   When are the JEE Mains 2015 paper 2 of B.Arch ...   \n",
       "192283      What is the best macro lens for a Canon DSLR?   \n",
       "315985   How does someone become a better problem solver?   \n",
       "\n",
       "                                                question2  is_duplicate  \n",
       "59942   Are book collectors possessive about their boo...             0  \n",
       "178587                    How do I cancel an A2A request?             1  \n",
       "153799  Why are some news channel and people saying th...             1  \n",
       "341282  Could Madara really resurrect the Ten Tails ev...             0  \n",
       "183720    Which is the best phone to buy within Rs.15000?             1  \n",
       "114454  How should I react if someone repeatedly adden...             0  \n",
       "299959  I give tuitions to students of class 7&8. They...             0  \n",
       "91808   When will the Jee Mains Paper 2 (B.Arch) resul...             0  \n",
       "192283         What is the best 1:1 macro lens for Canon?             1  \n",
       "315985                     How can I be a problem solver?             1  "
      ]
     },
     "execution_count": 14,
     "metadata": {},
     "output_type": "execute_result"
    }
   ],
   "source": [
    " df.sample(10)"
   ]
  },
  {
   "cell_type": "code",
   "execution_count": 15,
   "metadata": {},
   "outputs": [
    {
     "name": "stdout",
     "output_type": "stream",
     "text": [
      "<class 'pandas.core.frame.DataFrame'>\n",
      "RangeIndex: 345036 entries, 0 to 345035\n",
      "Data columns (total 7 columns):\n",
      " #   Column        Non-Null Count   Dtype \n",
      "---  ------        --------------   ----- \n",
      " 0   index         345036 non-null  int64 \n",
      " 1   id            345036 non-null  int64 \n",
      " 2   qid1          345036 non-null  int64 \n",
      " 3   qid2          345036 non-null  int64 \n",
      " 4   question1     345035 non-null  object\n",
      " 5   question2     345034 non-null  object\n",
      " 6   is_duplicate  345036 non-null  int64 \n",
      "dtypes: int64(5), object(2)\n",
      "memory usage: 18.4+ MB\n"
     ]
    }
   ],
   "source": [
    "df.info()"
   ]
  },
  {
   "cell_type": "code",
   "execution_count": 17,
   "metadata": {},
   "outputs": [
    {
     "data": {
      "text/plain": [
       "index           0\n",
       "id              0\n",
       "qid1            0\n",
       "qid2            0\n",
       "question1       1\n",
       "question2       2\n",
       "is_duplicate    0\n",
       "dtype: int64"
      ]
     },
     "execution_count": 17,
     "metadata": {},
     "output_type": "execute_result"
    }
   ],
   "source": [
    "# missing Values\n",
    "df.isnull().sum()"
   ]
  },
  {
   "cell_type": "code",
   "execution_count": 18,
   "metadata": {},
   "outputs": [
    {
     "data": {
      "text/plain": [
       "np.int64(0)"
      ]
     },
     "execution_count": 18,
     "metadata": {},
     "output_type": "execute_result"
    }
   ],
   "source": [
    "df.duplicated().sum()"
   ]
  },
  {
   "cell_type": "code",
   "execution_count": 20,
   "metadata": {},
   "outputs": [
    {
     "name": "stdout",
     "output_type": "stream",
     "text": [
      "is_duplicate\n",
      "0    208756\n",
      "1    136280\n",
      "Name: count, dtype: int64\n",
      "Axes(0.125,0.11;0.775x0.77)\n"
     ]
    },
    {
     "data": {
      "image/png": "[encoded data removed]",
      "text/plain": [
       "<Figure size 640x480 with 1 Axes>"
      ]
     },
     "metadata": {},
     "output_type": "display_data"
    }
   ],
   "source": [
    "# distribution of duplicate & non duplicate questions\n",
    "\n",
    "print(df['is_duplicate'].value_counts())\n",
    "print(df['is_duplicate'].value_counts().plot(kind='bar'))"
   ]
  },
  {
   "cell_type": "code",
   "execution_count": 51,
   "metadata": {},
   "outputs": [],
   "source": [
    "# lets work on few data 50000 rows only\n",
    "\n",
    "new_df = df.sample(30000)"
   ]
  },
  {
   "cell_type": "code",
   "execution_count": 52,
   "metadata": {},
   "outputs": [
    {
     "data": {
      "text/plain": [
       "index           0\n",
       "id              0\n",
       "qid1            0\n",
       "qid2            0\n",
       "question1       0\n",
       "question2       0\n",
       "is_duplicate    0\n",
       "dtype: int64"
      ]
     },
     "execution_count": 52,
     "metadata": {},
     "output_type": "execute_result"
    }
   ],
   "source": [
    "new_df.isnull().sum()"
   ]
  },
  {
   "cell_type": "code",
   "execution_count": 53,
   "metadata": {},
   "outputs": [
    {
     "data": {
      "text/plain": [
       "262652    False\n",
       "195005    False\n",
       "281234    False\n",
       "119343    False\n",
       "308617    False\n",
       "          ...  \n",
       "174131    False\n",
       "45996     False\n",
       "138085    False\n",
       "68191     False\n",
       "15281     False\n",
       "Length: 30000, dtype: bool"
      ]
     },
     "execution_count": 53,
     "metadata": {},
     "output_type": "execute_result"
    }
   ],
   "source": [
    "new_df.duplicated()"
   ]
  },
  {
   "cell_type": "code",
   "execution_count": 54,
   "metadata": {},
   "outputs": [],
   "source": [
    "ques_df = new_df[['question1','question2']]"
   ]
  },
  {
   "cell_type": "code",
   "execution_count": 45,
   "metadata": {},
   "outputs": [
    {
     "data": {
      "text/html": [
       "<div>\n",
       "<style scoped>\n",
       "    .dataframe tbody tr th:only-of-type {\n",
       "        vertical-align: middle;\n",
       "    }\n",
       "\n",
       "    .dataframe tbody tr th {\n",
       "        vertical-align: top;\n",
       "    }\n",
       "\n",
       "    .dataframe thead th {\n",
       "        text-align: right;\n",
       "    }\n",
       "</style>\n",
       "<table border=\"1\" class=\"dataframe\">\n",
       "  <thead>\n",
       "    <tr style=\"text-align: right;\">\n",
       "      <th></th>\n",
       "      <th>question1</th>\n",
       "      <th>question2</th>\n",
       "    </tr>\n",
       "  </thead>\n",
       "  <tbody>\n",
       "    <tr>\n",
       "      <th>276376</th>\n",
       "      <td>What is 11x a good P/E ratio to buy?</td>\n",
       "      <td>What is the current P/E ratio for the Nikkei 225?</td>\n",
       "    </tr>\n",
       "    <tr>\n",
       "      <th>246241</th>\n",
       "      <td>Where can I download dragon ball episodes?</td>\n",
       "      <td>Where can I download episodes of dragon ball?</td>\n",
       "    </tr>\n",
       "    <tr>\n",
       "      <th>43351</th>\n",
       "      <td>What is Apache Spark streaming?</td>\n",
       "      <td>How do I learn spark streaming?</td>\n",
       "    </tr>\n",
       "    <tr>\n",
       "      <th>154016</th>\n",
       "      <td>Is energy in vacuum real? How do we know that ...</td>\n",
       "      <td>Are vacuum fluctuations an energy in a vacuum?...</td>\n",
       "    </tr>\n",
       "    <tr>\n",
       "      <th>64277</th>\n",
       "      <td>What is the diverge of parallel?</td>\n",
       "      <td>What will you do if you were in the shoes disc...</td>\n",
       "    </tr>\n",
       "    <tr>\n",
       "      <th>...</th>\n",
       "      <td>...</td>\n",
       "      <td>...</td>\n",
       "    </tr>\n",
       "    <tr>\n",
       "      <th>323367</th>\n",
       "      <td>Which is better for an undergraduate CS Erasmu...</td>\n",
       "      <td>Why do Commonwealth military units have their ...</td>\n",
       "    </tr>\n",
       "    <tr>\n",
       "      <th>126340</th>\n",
       "      <td>Are software licenses considered a capital or ...</td>\n",
       "      <td>Is salary expense or marketing expense conside...</td>\n",
       "    </tr>\n",
       "    <tr>\n",
       "      <th>155722</th>\n",
       "      <td>What is the remainder when 21! Is divided by 23?</td>\n",
       "      <td>What is the remainder when 30^100 is divided b...</td>\n",
       "    </tr>\n",
       "    <tr>\n",
       "      <th>329483</th>\n",
       "      <td>What are the best aspects of working at First ...</td>\n",
       "      <td>What are the best aspects of working at First ...</td>\n",
       "    </tr>\n",
       "    <tr>\n",
       "      <th>32779</th>\n",
       "      <td>Are there any substantial way to quit meth?</td>\n",
       "      <td>What is the BEst way to quit meth?</td>\n",
       "    </tr>\n",
       "  </tbody>\n",
       "</table>\n",
       "<p>50000 rows × 2 columns</p>\n",
       "</div>"
      ],
      "text/plain": [
       "                                                question1  \\\n",
       "276376               What is 11x a good P/E ratio to buy?   \n",
       "246241         Where can I download dragon ball episodes?   \n",
       "43351                     What is Apache Spark streaming?   \n",
       "154016  Is energy in vacuum real? How do we know that ...   \n",
       "64277                    What is the diverge of parallel?   \n",
       "...                                                   ...   \n",
       "323367  Which is better for an undergraduate CS Erasmu...   \n",
       "126340  Are software licenses considered a capital or ...   \n",
       "155722   What is the remainder when 21! Is divided by 23?   \n",
       "329483  What are the best aspects of working at First ...   \n",
       "32779         Are there any substantial way to quit meth?   \n",
       "\n",
       "                                                question2  \n",
       "276376  What is the current P/E ratio for the Nikkei 225?  \n",
       "246241      Where can I download episodes of dragon ball?  \n",
       "43351                     How do I learn spark streaming?  \n",
       "154016  Are vacuum fluctuations an energy in a vacuum?...  \n",
       "64277   What will you do if you were in the shoes disc...  \n",
       "...                                                   ...  \n",
       "323367  Why do Commonwealth military units have their ...  \n",
       "126340  Is salary expense or marketing expense conside...  \n",
       "155722  What is the remainder when 30^100 is divided b...  \n",
       "329483  What are the best aspects of working at First ...  \n",
       "32779                  What is the BEst way to quit meth?  \n",
       "\n",
       "[50000 rows x 2 columns]"
      ]
     },
     "execution_count": 45,
     "metadata": {},
     "output_type": "execute_result"
    }
   ],
   "source": [
    "ques_df"
   ]
  },
  {
   "cell_type": "code",
   "execution_count": 55,
   "metadata": {},
   "outputs": [],
   "source": [
    "from sklearn.feature_extraction.text import CountVectorizer"
   ]
  },
  {
   "cell_type": "code",
   "execution_count": 56,
   "metadata": {},
   "outputs": [],
   "source": [
    "question = list(ques_df['question1']+ques_df['question2'])"
   ]
  },
  {
   "cell_type": "code",
   "execution_count": 66,
   "metadata": {},
   "outputs": [],
   "source": [
    "cv=CountVectorizer(max_features=3000)\n",
    "\n",
    "q1_arr,q2_arr = np.vsplit(cv.fit_transform(question).toarray(),2)"
   ]
  },
  {
   "cell_type": "code",
   "execution_count": 61,
   "metadata": {},
   "outputs": [
    {
     "name": "stdout",
     "output_type": "stream",
     "text": [
      "(15000, 3000)\n",
      "(30000,)\n"
     ]
    }
   ],
   "source": [
    "print(q1_arr.shape)        # Should output (15000, 3000)\n",
    "print(ques_df.index.shape) # Should output (30000,)\n"
   ]
  },
  {
   "cell_type": "code",
   "execution_count": 68,
   "metadata": {},
   "outputs": [],
   "source": [
    "q1_arr = np.tile(q1_arr, (2, 1))  # Doubles the rows if needed\n",
    "q2_arr = np.tile(q2_arr, (2, 1))  # Doubles the rows if needed\n"
   ]
  },
  {
   "cell_type": "code",
   "execution_count": 69,
   "metadata": {},
   "outputs": [
    {
     "data": {
      "text/plain": [
       "(30000, 6000)"
      ]
     },
     "execution_count": 69,
     "metadata": {},
     "output_type": "execute_result"
    }
   ],
   "source": [
    "temp_df1= pd.DataFrame(q1_arr, index= ques_df.index)\n",
    "temp_df2= pd.DataFrame(q2_arr, index= ques_df.index)\n",
    "temp_df=pd.concat([temp_df1, temp_df2],axis=1)\n",
    "temp_df.shape"
   ]
  },
  {
   "cell_type": "code",
   "execution_count": 71,
   "metadata": {},
   "outputs": [],
   "source": [
    "temp_df['is_duplicate']=new_df['is_duplicate']"
   ]
  },
  {
   "cell_type": "code",
   "execution_count": 72,
   "metadata": {},
   "outputs": [
    {
     "data": {
      "text/html": [
       "<div>\n",
       "<style scoped>\n",
       "    .dataframe tbody tr th:only-of-type {\n",
       "        vertical-align: middle;\n",
       "    }\n",
       "\n",
       "    .dataframe tbody tr th {\n",
       "        vertical-align: top;\n",
       "    }\n",
       "\n",
       "    .dataframe thead th {\n",
       "        text-align: right;\n",
       "    }\n",
       "</style>\n",
       "<table border=\"1\" class=\"dataframe\">\n",
       "  <thead>\n",
       "    <tr style=\"text-align: right;\">\n",
       "      <th></th>\n",
       "      <th>0</th>\n",
       "      <th>1</th>\n",
       "      <th>2</th>\n",
       "      <th>3</th>\n",
       "      <th>4</th>\n",
       "      <th>5</th>\n",
       "      <th>6</th>\n",
       "      <th>7</th>\n",
       "      <th>8</th>\n",
       "      <th>9</th>\n",
       "      <th>...</th>\n",
       "      <th>2991</th>\n",
       "      <th>2992</th>\n",
       "      <th>2993</th>\n",
       "      <th>2994</th>\n",
       "      <th>2995</th>\n",
       "      <th>2996</th>\n",
       "      <th>2997</th>\n",
       "      <th>2998</th>\n",
       "      <th>2999</th>\n",
       "      <th>is_duplicate</th>\n",
       "    </tr>\n",
       "  </thead>\n",
       "  <tbody>\n",
       "    <tr>\n",
       "      <th>262652</th>\n",
       "      <td>0</td>\n",
       "      <td>0</td>\n",
       "      <td>0</td>\n",
       "      <td>0</td>\n",
       "      <td>0</td>\n",
       "      <td>0</td>\n",
       "      <td>0</td>\n",
       "      <td>0</td>\n",
       "      <td>0</td>\n",
       "      <td>0</td>\n",
       "      <td>...</td>\n",
       "      <td>0</td>\n",
       "      <td>0</td>\n",
       "      <td>0</td>\n",
       "      <td>0</td>\n",
       "      <td>0</td>\n",
       "      <td>0</td>\n",
       "      <td>0</td>\n",
       "      <td>0</td>\n",
       "      <td>0</td>\n",
       "      <td>0</td>\n",
       "    </tr>\n",
       "    <tr>\n",
       "      <th>195005</th>\n",
       "      <td>0</td>\n",
       "      <td>0</td>\n",
       "      <td>0</td>\n",
       "      <td>0</td>\n",
       "      <td>0</td>\n",
       "      <td>0</td>\n",
       "      <td>0</td>\n",
       "      <td>0</td>\n",
       "      <td>0</td>\n",
       "      <td>0</td>\n",
       "      <td>...</td>\n",
       "      <td>0</td>\n",
       "      <td>0</td>\n",
       "      <td>0</td>\n",
       "      <td>0</td>\n",
       "      <td>0</td>\n",
       "      <td>0</td>\n",
       "      <td>0</td>\n",
       "      <td>0</td>\n",
       "      <td>0</td>\n",
       "      <td>0</td>\n",
       "    </tr>\n",
       "    <tr>\n",
       "      <th>281234</th>\n",
       "      <td>0</td>\n",
       "      <td>0</td>\n",
       "      <td>0</td>\n",
       "      <td>0</td>\n",
       "      <td>0</td>\n",
       "      <td>0</td>\n",
       "      <td>0</td>\n",
       "      <td>0</td>\n",
       "      <td>0</td>\n",
       "      <td>0</td>\n",
       "      <td>...</td>\n",
       "      <td>0</td>\n",
       "      <td>0</td>\n",
       "      <td>0</td>\n",
       "      <td>0</td>\n",
       "      <td>0</td>\n",
       "      <td>0</td>\n",
       "      <td>0</td>\n",
       "      <td>0</td>\n",
       "      <td>0</td>\n",
       "      <td>1</td>\n",
       "    </tr>\n",
       "    <tr>\n",
       "      <th>119343</th>\n",
       "      <td>0</td>\n",
       "      <td>0</td>\n",
       "      <td>0</td>\n",
       "      <td>0</td>\n",
       "      <td>0</td>\n",
       "      <td>0</td>\n",
       "      <td>0</td>\n",
       "      <td>0</td>\n",
       "      <td>0</td>\n",
       "      <td>0</td>\n",
       "      <td>...</td>\n",
       "      <td>0</td>\n",
       "      <td>0</td>\n",
       "      <td>0</td>\n",
       "      <td>0</td>\n",
       "      <td>0</td>\n",
       "      <td>0</td>\n",
       "      <td>0</td>\n",
       "      <td>0</td>\n",
       "      <td>0</td>\n",
       "      <td>1</td>\n",
       "    </tr>\n",
       "    <tr>\n",
       "      <th>308617</th>\n",
       "      <td>0</td>\n",
       "      <td>0</td>\n",
       "      <td>0</td>\n",
       "      <td>0</td>\n",
       "      <td>0</td>\n",
       "      <td>0</td>\n",
       "      <td>0</td>\n",
       "      <td>0</td>\n",
       "      <td>0</td>\n",
       "      <td>0</td>\n",
       "      <td>...</td>\n",
       "      <td>0</td>\n",
       "      <td>0</td>\n",
       "      <td>0</td>\n",
       "      <td>0</td>\n",
       "      <td>0</td>\n",
       "      <td>0</td>\n",
       "      <td>0</td>\n",
       "      <td>0</td>\n",
       "      <td>0</td>\n",
       "      <td>0</td>\n",
       "    </tr>\n",
       "    <tr>\n",
       "      <th>...</th>\n",
       "      <td>...</td>\n",
       "      <td>...</td>\n",
       "      <td>...</td>\n",
       "      <td>...</td>\n",
       "      <td>...</td>\n",
       "      <td>...</td>\n",
       "      <td>...</td>\n",
       "      <td>...</td>\n",
       "      <td>...</td>\n",
       "      <td>...</td>\n",
       "      <td>...</td>\n",
       "      <td>...</td>\n",
       "      <td>...</td>\n",
       "      <td>...</td>\n",
       "      <td>...</td>\n",
       "      <td>...</td>\n",
       "      <td>...</td>\n",
       "      <td>...</td>\n",
       "      <td>...</td>\n",
       "      <td>...</td>\n",
       "      <td>...</td>\n",
       "    </tr>\n",
       "    <tr>\n",
       "      <th>174131</th>\n",
       "      <td>0</td>\n",
       "      <td>0</td>\n",
       "      <td>0</td>\n",
       "      <td>0</td>\n",
       "      <td>0</td>\n",
       "      <td>0</td>\n",
       "      <td>0</td>\n",
       "      <td>0</td>\n",
       "      <td>0</td>\n",
       "      <td>0</td>\n",
       "      <td>...</td>\n",
       "      <td>0</td>\n",
       "      <td>0</td>\n",
       "      <td>0</td>\n",
       "      <td>0</td>\n",
       "      <td>0</td>\n",
       "      <td>0</td>\n",
       "      <td>0</td>\n",
       "      <td>0</td>\n",
       "      <td>0</td>\n",
       "      <td>1</td>\n",
       "    </tr>\n",
       "    <tr>\n",
       "      <th>45996</th>\n",
       "      <td>0</td>\n",
       "      <td>0</td>\n",
       "      <td>0</td>\n",
       "      <td>0</td>\n",
       "      <td>0</td>\n",
       "      <td>0</td>\n",
       "      <td>0</td>\n",
       "      <td>0</td>\n",
       "      <td>0</td>\n",
       "      <td>0</td>\n",
       "      <td>...</td>\n",
       "      <td>0</td>\n",
       "      <td>0</td>\n",
       "      <td>0</td>\n",
       "      <td>0</td>\n",
       "      <td>0</td>\n",
       "      <td>0</td>\n",
       "      <td>0</td>\n",
       "      <td>0</td>\n",
       "      <td>0</td>\n",
       "      <td>1</td>\n",
       "    </tr>\n",
       "    <tr>\n",
       "      <th>138085</th>\n",
       "      <td>0</td>\n",
       "      <td>0</td>\n",
       "      <td>0</td>\n",
       "      <td>0</td>\n",
       "      <td>0</td>\n",
       "      <td>0</td>\n",
       "      <td>0</td>\n",
       "      <td>0</td>\n",
       "      <td>0</td>\n",
       "      <td>0</td>\n",
       "      <td>...</td>\n",
       "      <td>0</td>\n",
       "      <td>0</td>\n",
       "      <td>0</td>\n",
       "      <td>0</td>\n",
       "      <td>0</td>\n",
       "      <td>0</td>\n",
       "      <td>0</td>\n",
       "      <td>0</td>\n",
       "      <td>0</td>\n",
       "      <td>1</td>\n",
       "    </tr>\n",
       "    <tr>\n",
       "      <th>68191</th>\n",
       "      <td>0</td>\n",
       "      <td>0</td>\n",
       "      <td>0</td>\n",
       "      <td>0</td>\n",
       "      <td>0</td>\n",
       "      <td>0</td>\n",
       "      <td>0</td>\n",
       "      <td>0</td>\n",
       "      <td>0</td>\n",
       "      <td>0</td>\n",
       "      <td>...</td>\n",
       "      <td>0</td>\n",
       "      <td>0</td>\n",
       "      <td>0</td>\n",
       "      <td>0</td>\n",
       "      <td>0</td>\n",
       "      <td>0</td>\n",
       "      <td>0</td>\n",
       "      <td>0</td>\n",
       "      <td>0</td>\n",
       "      <td>0</td>\n",
       "    </tr>\n",
       "    <tr>\n",
       "      <th>15281</th>\n",
       "      <td>0</td>\n",
       "      <td>0</td>\n",
       "      <td>0</td>\n",
       "      <td>0</td>\n",
       "      <td>0</td>\n",
       "      <td>0</td>\n",
       "      <td>0</td>\n",
       "      <td>0</td>\n",
       "      <td>0</td>\n",
       "      <td>0</td>\n",
       "      <td>...</td>\n",
       "      <td>0</td>\n",
       "      <td>0</td>\n",
       "      <td>0</td>\n",
       "      <td>0</td>\n",
       "      <td>0</td>\n",
       "      <td>0</td>\n",
       "      <td>0</td>\n",
       "      <td>0</td>\n",
       "      <td>0</td>\n",
       "      <td>0</td>\n",
       "    </tr>\n",
       "  </tbody>\n",
       "</table>\n",
       "<p>30000 rows × 6001 columns</p>\n",
       "</div>"
      ],
      "text/plain": [
       "        0  1  2  3  4  5  6  7  8  9  ...  2991  2992  2993  2994  2995  2996  \\\n",
       "262652  0  0  0  0  0  0  0  0  0  0  ...     0     0     0     0     0     0   \n",
       "195005  0  0  0  0  0  0  0  0  0  0  ...     0     0     0     0     0     0   \n",
       "281234  0  0  0  0  0  0  0  0  0  0  ...     0     0     0     0     0     0   \n",
       "119343  0  0  0  0  0  0  0  0  0  0  ...     0     0     0     0     0     0   \n",
       "308617  0  0  0  0  0  0  0  0  0  0  ...     0     0     0     0     0     0   \n",
       "...    .. .. .. .. .. .. .. .. .. ..  ...   ...   ...   ...   ...   ...   ...   \n",
       "174131  0  0  0  0  0  0  0  0  0  0  ...     0     0     0     0     0     0   \n",
       "45996   0  0  0  0  0  0  0  0  0  0  ...     0     0     0     0     0     0   \n",
       "138085  0  0  0  0  0  0  0  0  0  0  ...     0     0     0     0     0     0   \n",
       "68191   0  0  0  0  0  0  0  0  0  0  ...     0     0     0     0     0     0   \n",
       "15281   0  0  0  0  0  0  0  0  0  0  ...     0     0     0     0     0     0   \n",
       "\n",
       "        2997  2998  2999  is_duplicate  \n",
       "262652     0     0     0             0  \n",
       "195005     0     0     0             0  \n",
       "281234     0     0     0             1  \n",
       "119343     0     0     0             1  \n",
       "308617     0     0     0             0  \n",
       "...      ...   ...   ...           ...  \n",
       "174131     0     0     0             1  \n",
       "45996      0     0     0             1  \n",
       "138085     0     0     0             1  \n",
       "68191      0     0     0             0  \n",
       "15281      0     0     0             0  \n",
       "\n",
       "[30000 rows x 6001 columns]"
      ]
     },
     "execution_count": 72,
     "metadata": {},
     "output_type": "execute_result"
    }
   ],
   "source": [
    "temp_df"
   ]
  },
  {
   "cell_type": "code",
   "execution_count": 73,
   "metadata": {},
   "outputs": [
    {
     "data": {
      "text/plain": [
       "(30000, 6001)"
      ]
     },
     "execution_count": 73,
     "metadata": {},
     "output_type": "execute_result"
    }
   ],
   "source": [
    "temp_df.shape"
   ]
  },
  {
   "cell_type": "code",
   "execution_count": 75,
   "metadata": {},
   "outputs": [],
   "source": [
    "from sklearn.model_selection import train_test_split\n",
    "X_train,X_test,y_train,y_test=train_test_split(temp_df.iloc[:,0:-1].values,temp_df.iloc[:,-1].values,test_size=0.2,random_state=2)"
   ]
  },
  {
   "cell_type": "code",
   "execution_count": 76,
   "metadata": {},
   "outputs": [
    {
     "data": {
      "text/plain": [
       "0.55"
      ]
     },
     "execution_count": 76,
     "metadata": {},
     "output_type": "execute_result"
    }
   ],
   "source": [
    "## By using Randomforest Classifier to find out acuracy score\n",
    "\n",
    "from sklearn.ensemble import RandomForestClassifier\n",
    "from sklearn.metrics import accuracy_score\n",
    "rf = RandomForestClassifier()\n",
    "rf.fit(X_train,y_train)\n",
    "y_pred = rf.predict(X_test)\n",
    "accuracy_score(y_test,y_pred)"
   ]
  },
  {
   "cell_type": "code",
   "execution_count": 79,
   "metadata": {},
   "outputs": [
    {
     "data": {
      "text/plain": [
       "0.6298333333333334"
      ]
     },
     "execution_count": 79,
     "metadata": {},
     "output_type": "execute_result"
    }
   ],
   "source": [
    "## By using XGBClassifier to find out score\n",
    "\n",
    "from xgboost import XGBClassifier\n",
    "xgb = XGBClassifier()\n",
    "xgb.fit(X_train,y_train)\n",
    "y_pred = xgb.predict(X_test)\n",
    "accuracy_score(y_test,y_pred)"
   ]
  },
  {
   "cell_type": "code",
   "execution_count": 80,
   "metadata": {},
   "outputs": [],
   "source": [
    "## we got better accuracy  in XGBClassifier between above two classifier "
   ]
  },
  {
   "cell_type": "code",
   "execution_count": null,
   "metadata": {},
   "outputs": [],
   "source": []
  }
 ],
 "metadata": {
  "kernelspec": {
   "display_name": "Python 3",
   "language": "python",
   "name": "python3"
  },
  "language_info": {
   "codemirror_mode": {
    "name": "ipython",
    "version": 3
   },
   "file_extension": ".py",
   "mimetype": "text/x-python",
   "name": "python",
   "nbconvert_exporter": "python",
   "pygments_lexer": "ipython3",
   "version": "3.13.0"
  }
 },
 "nbformat": 4,
 "nbformat_minor": 2
}
